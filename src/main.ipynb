{
 "cells": [
  {
   "cell_type": "code",
   "execution_count": 1,
   "metadata": {},
   "outputs": [],
   "source": [
    "from scrapers.personalities_scraper import PersonalitiesScraper\n",
    "scraper = PersonalitiesScraper()\n",
    "scraper.reset_raw()\n",
    "scraper.main()"
   ]
  },
  {
   "cell_type": "code",
   "execution_count": 4,
   "metadata": {},
   "outputs": [],
   "source": [
    "from scrapers.transformations import PersonalityDataCleaner\n",
    "cleanser = PersonalityDataCleaner()\n",
    "cleanser.reset_cleansed()\n",
    "cleanser.process_personality_data()"
   ]
  },
  {
   "cell_type": "code",
   "execution_count": 5,
   "metadata": {},
   "outputs": [
    {
     "name": "stderr",
     "output_type": "stream",
     "text": [
      "2024-12-14 21:32:29.404180: I tensorflow/core/platform/cpu_feature_guard.cc:182] This TensorFlow binary is optimized to use available CPU instructions in performance-critical operations.\n",
      "To enable the following instructions: AVX2 FMA, in other operations, rebuild TensorFlow with the appropriate compiler flags.\n"
     ]
    },
    {
     "name": "stdout",
     "output_type": "stream",
     "text": [
      "Vector store at '../data/vectorized/' has been reset.\n"
     ]
    }
   ],
   "source": [
    "from embed.embed import VectorStoreManager\n",
    "manager = VectorStoreManager()\n",
    "# sometimes resetting here will require a restart\n",
    "manager.reset_vectorstore()\n",
    "manager.personality_embed()"
   ]
  },
  {
   "cell_type": "code",
   "execution_count": 7,
   "metadata": {},
   "outputs": [
    {
     "name": "stdout",
     "output_type": "stream",
     "text": [
      "Result 1:\n",
      "distant idea or opportunity. however, entps are exceptionally adaptive individuals. their ability and readiness to change their perspectives may save them from being overly confrontational or insensitive. they just have to realize the value of emotional understanding, sensitivity, and compromise in maintaining a strong relationship. and the good news is that these personalities can actively work on developing these traits while keeping their debateloving, unconventional spirit alive.\n",
      "\n",
      "Result 2:\n",
      "different approaches and come up with innovative ways to tackle new challenges without having to handle the tedious stepbystep implementation of these plans. entp managers are openminded and flexible, not just granting but also expecting the same freedom of thought that they themselves enjoy. this can lead to disorder and conflicting ideas and approaches being put forward, but entp personalities are also great at accurately and objectively assessing which plan is likely to be most effective.\n",
      "\n",
      "Result 3:\n",
      "as capable of adopting new methods as they are of suggesting that others do so. if something can be done better, its as simple as that. they will gladly take criticism, so long as its logical and performanceoriented. the biggest challenge for entp subordinates is that it is often the fate of the lower positions to implement the details, do the dirty work, and follow through on plans set out by their managers. this couldnt be further from what people with this personality type prefer to spend\n",
      "\n",
      "Result 4:\n",
      "if theres anything that entps love, its flexing their mental muscles and any environment that lets them devise new approaches using novel ideas. entps are a versatile personality type, and while it may take time for them to get to a point where they can fully utilize their skillset, they are likely to find that those qualities translate well into pretty much any career that really challenges them while also constantly piquing their interest. not every career allows entp personalities to utilize\n",
      "\n",
      "Result 5:\n",
      "strengths weaknesses entp strengths knowledgeable people with the entp personality type debaters rarely pass up a good opportunity to learn something new, especially abstract concepts. this information isnt usually absorbed for any planned purpose as with dedicated studying they just find it fascinating. quick thinkers entp personalities have tremendously flexible minds and are able to shift from idea to idea with little effort, drawing on their accumulated knowledge to prove their points, or\n",
      "\n"
     ]
    }
   ],
   "source": [
    "# Example Query\n",
    "query = \"Tell me about entp's stregnths and weakness\"\n",
    "results = manager.query_vectorstore(query)\n",
    "\n",
    "# Print Results\n",
    "for i, result in enumerate(results, start=1):\n",
    "    print(f\"Result {i}:\")\n",
    "    print(result.page_content)\n",
    "    print()"
   ]
  },
  {
   "cell_type": "code",
   "execution_count": null,
   "metadata": {},
   "outputs": [],
   "source": []
  },
  {
   "cell_type": "code",
   "execution_count": null,
   "metadata": {},
   "outputs": [],
   "source": []
  },
  {
   "cell_type": "code",
   "execution_count": null,
   "metadata": {},
   "outputs": [],
   "source": []
  },
  {
   "cell_type": "code",
   "execution_count": null,
   "metadata": {},
   "outputs": [],
   "source": []
  },
  {
   "cell_type": "code",
   "execution_count": null,
   "metadata": {},
   "outputs": [],
   "source": []
  },
  {
   "cell_type": "code",
   "execution_count": null,
   "metadata": {},
   "outputs": [],
   "source": []
  }
 ],
 "metadata": {
  "kernelspec": {
   "display_name": "zero",
   "language": "python",
   "name": "python3"
  },
  "language_info": {
   "codemirror_mode": {
    "name": "ipython",
    "version": 3
   },
   "file_extension": ".py",
   "mimetype": "text/x-python",
   "name": "python",
   "nbconvert_exporter": "python",
   "pygments_lexer": "ipython3",
   "version": "3.9.6"
  }
 },
 "nbformat": 4,
 "nbformat_minor": 2
}
