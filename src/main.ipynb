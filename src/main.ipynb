{
 "cells": [
  {
   "cell_type": "code",
   "execution_count": 1,
   "metadata": {},
   "outputs": [],
   "source": [
    "from scrapers.scrapers import PersonalitiesScraper\n",
    "scraper = PersonalitiesScraper()\n",
    "scraper.reset_raw()\n",
    "scraper.main()"
   ]
  },
  {
   "cell_type": "code",
   "execution_count": 4,
   "metadata": {},
   "outputs": [],
   "source": [
    "from scrapers.cleaners import PersonalityDataCleaner\n",
    "cleanser = PersonalityDataCleaner()\n",
    "cleanser.reset_cleansed()\n",
    "cleanser.process_personality_data()"
   ]
  },
  {
   "cell_type": "code",
   "execution_count": 5,
   "metadata": {},
   "outputs": [
    {
     "name": "stderr",
     "output_type": "stream",
     "text": [
      "2024-12-14 21:32:29.404180: I tensorflow/core/platform/cpu_feature_guard.cc:182] This TensorFlow binary is optimized to use available CPU instructions in performance-critical operations.\n",
      "To enable the following instructions: AVX2 FMA, in other operations, rebuild TensorFlow with the appropriate compiler flags.\n"
     ]
    },
    {
     "name": "stdout",
     "output_type": "stream",
     "text": [
      "Vector store at '../data/vectorized/' has been reset.\n"
     ]
    }
   ],
   "source": [
    "from embed.embeder import VectorStoreManager\n",
    "manager = VectorStoreManager()\n",
    "# sometimes resetting here will require a restart\n",
    "manager.reset_vectorstore()\n",
    "manager.personality_embed()"
   ]
  },
  {
   "cell_type": "code",
   "execution_count": 7,
   "metadata": {},
   "outputs": [
    {
     "name": "stdout",
     "output_type": "stream",
     "text": [
      "Result 1:\n",
      "distant idea or opportunity. however, entps are exceptionally adaptive individuals. their ability and readiness to change their perspectives may save them from being overly confrontational or insensitive. they just have to realize the value of emotional understanding, sensitivity, and compromise in maintaining a strong relationship. and the good news is that these personalities can actively work on developing these traits while keeping their debateloving, unconventional spirit alive.\n",
      "\n",
      "Result 2:\n",
      "different approaches and come up with innovative ways to tackle new challenges without having to handle the tedious stepbystep implementation of these plans. entp managers are openminded and flexible, not just granting but also expecting the same freedom of thought that they themselves enjoy. this can lead to disorder and conflicting ideas and approaches being put forward, but entp personalities are also great at accurately and objectively assessing which plan is likely to be most effective.\n",
      "\n",
      "Result 3:\n",
      "as capable of adopting new methods as they are of suggesting that others do so. if something can be done better, its as simple as that. they will gladly take criticism, so long as its logical and performanceoriented. the biggest challenge for entp subordinates is that it is often the fate of the lower positions to implement the details, do the dirty work, and follow through on plans set out by their managers. this couldnt be further from what people with this personality type prefer to spend\n",
      "\n",
      "Result 4:\n",
      "if theres anything that entps love, its flexing their mental muscles and any environment that lets them devise new approaches using novel ideas. entps are a versatile personality type, and while it may take time for them to get to a point where they can fully utilize their skillset, they are likely to find that those qualities translate well into pretty much any career that really challenges them while also constantly piquing their interest. not every career allows entp personalities to utilize\n",
      "\n",
      "Result 5:\n",
      "strengths weaknesses entp strengths knowledgeable people with the entp personality type debaters rarely pass up a good opportunity to learn something new, especially abstract concepts. this information isnt usually absorbed for any planned purpose as with dedicated studying they just find it fascinating. quick thinkers entp personalities have tremendously flexible minds and are able to shift from idea to idea with little effort, drawing on their accumulated knowledge to prove their points, or\n",
      "\n"
     ]
    }
   ],
   "source": [
    "# Example Query\n",
    "query = \"Tell me about entp's stregnths and weakness\"\n",
    "results = manager.query_vectorstore(query)\n",
    "\n",
    "# Print Results\n",
    "for i, result in enumerate(results, start=1):\n",
    "    print(f\"Result {i}:\")\n",
    "    print(result.page_content)\n",
    "    print()"
   ]
  },
  {
   "cell_type": "code",
   "execution_count": 3,
   "metadata": {},
   "outputs": [
    {
     "name": "stdout",
     "output_type": "stream",
     "text": [
      "ChatGPT Response:\n",
      "Good Python programming practices are essential for writing readable, maintainable, and efficient code. Here are some key practices to consider:\n",
      "\n",
      "1. **Follow PEP 8 Guidelines**:\n",
      "   - Adhere to the Python Enhancement Proposal 8 (PEP 8) which provides conventions for writing clean and readable Python code. This includes naming conventions, indentation, line length, and spacing.\n",
      "\n",
      "2. **Use Meaningful Names**:\n",
      "   - Choose descriptive variable, function, and class names that convey their purpose. Avoid cryptic names and abbreviations.\n",
      "\n",
      "3. **Write Docstrings**:\n",
      "   - Provide documentation for modules, classes, methods, and functions using docstrings. This helps others (and yourself) understand what the code does.\n",
      "\n",
      "4. **Keep Code DRY (Don’t Repeat Yourself)**:\n",
      "   - Avoid code duplication by creating reusable functions or classes. Reuse code instead of copying and pasting.\n",
      "\n",
      "5. **Limit Line Length**:\n",
      "   - Aim to keep lines of code to a maximum of 79 characters to ensure readability, especially when viewing code side-by-side.\n",
      "\n",
      "6. **Use Comments Wisely**:\n",
      "   - Use comments to explain complex logic or to clarify the intent behind certain code blocks. However, avoid over-commenting or stating the obvious.\n",
      "\n",
      "7. **Organize Imports**:\n",
      "   - Keep imports at the beginning of the file and group standard library imports, third-party imports, and local imports together.\n",
      "\n",
      "8. **Use Virtual Environments**:\n",
      "   - Utilize virtual environments (e.g., `venv` or `conda`) to manage dependencies and avoid conflicts between projects.\n",
      "\n",
      "9. **Handle Exceptions Properly**:\n",
      "   - Use try-except blocks to handle exceptions gracefully. Avoid using bare exceptions and instead be specific about the exceptions you are catching.\n",
      "\n",
      "10. **Write Unit Tests**:\n",
      "    - Develop unit tests to ensure your code works as expected and to help catch bugs early. Use frameworks like `unittest` or `pytest`.\n",
      "\n",
      "11. **Use Version Control**:\n",
      "    - Use a version control system like Git to track changes, collaborate with others, and manage your codebase.\n",
      "\n",
      "12. **Optimize for Performance**:\n",
      "    - When performance is an issue, use built-in functions and libraries that are optimized for speed. Consider algorithm complexity and profiling tools.\n",
      "\n",
      "13. **Embrace Itertools and Other Standard Libraries**:\n",
      "    - Make use of Python's rich standard libraries (like `itertools`, `collections`, etc.) to simplify code and improve efficiency.\n",
      "\n",
      "14. **Keep Functions Small and Focused**:\n",
      "    - Write functions that are short and focused on a single task. This improves readability and makes them easier to test.\n",
      "\n",
      "15. **Use Context Managers**:\n",
      "    - Utilize context managers (the `with` statement) for resource management (e.g., file handling) to ensure proper resource cleanup.\n",
      "\n",
      "16. **Be Consistent**:\n",
      "    - Maintain consistency in your code style, naming conventions, and structure throughout your project to enhance readability.\n",
      "\n",
      "17. **Stay Updated with Python Changes**:\n",
      "    - Keep learning about updates in Python (like new features in recent versions) to leverage improvements in the language.\n",
      "\n",
      "By incorporating these practices into your Python programming workflow, you will create better quality code that is more maintainable and easier for others to understand.\n"
     ]
    }
   ],
   "source": [
    "from scrapers.api import ChatGPT\n",
    "from dotenv import load_dotenv\n",
    "import os\n",
    "\n",
    "# load environment variables from .env file\n",
    "load_dotenv(dotenv_path='scrapers/.env')\n",
    "\n",
    "# Replace with your OpenAI API key or set it in your environment variables\n",
    "api_key = os.getenv('OPENAI_API_KEY')\n",
    "\n",
    "# Initialize the ChatGPT class\n",
    "chat_gpt = ChatGPT(api_key=api_key)\n",
    "\n",
    "# Example prompt\n",
    "prompt = \"What are some good Python programming practices?\"\n",
    "response = chat_gpt.send_prompt(prompt)\n",
    "\n",
    "# Print the response\n",
    "print(\"ChatGPT Response:\")\n",
    "print(response)"
   ]
  },
  {
   "cell_type": "code",
   "execution_count": null,
   "metadata": {},
   "outputs": [],
   "source": []
  }
 ],
 "metadata": {
  "kernelspec": {
   "display_name": "zero",
   "language": "python",
   "name": "python3"
  },
  "language_info": {
   "codemirror_mode": {
    "name": "ipython",
    "version": 3
   },
   "file_extension": ".py",
   "mimetype": "text/x-python",
   "name": "python",
   "nbconvert_exporter": "python",
   "pygments_lexer": "ipython3",
   "version": "3.9.6"
  }
 },
 "nbformat": 4,
 "nbformat_minor": 2
}
