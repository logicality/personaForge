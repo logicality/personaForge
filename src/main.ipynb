{
 "cells": [
  {
   "cell_type": "code",
   "execution_count": 1,
   "metadata": {},
   "outputs": [],
   "source": [
    "from scrapers.scrapers import PersonalitiesScraper\n",
    "scraper = PersonalitiesScraper()\n",
    "scraper.reset_storage()\n",
    "scraper.main()"
   ]
  },
  {
   "cell_type": "code",
   "execution_count": null,
   "metadata": {},
   "outputs": [],
   "source": [
    "from dotenv import load_dotenv\n",
    "from scrapers.api import PersonalityInsights\n",
    "from scrapers.config import TOPIC_COMMUNICATION\n",
    "import os\n",
    "\n",
    "# load environment variables from .env file\n",
    "load_dotenv(dotenv_path='scrapers/.env')\n",
    "\n",
    "# Replace with your OpenAI API key or set it in your environment variables\n",
    "api_key = os.getenv('OPENAI_API_KEY')\n",
    "\n",
    "# Initialize the ChatGPT class\n",
    "insights = PersonalityInsights(api_key=api_key)\n",
    "insights.reset_storage()\n",
    "insights.inquire_all_personalities([TOPIC_COMMUNICATION])"
   ]
  },
  {
   "cell_type": "code",
   "execution_count": 2,
   "metadata": {},
   "outputs": [],
   "source": [
    "from scrapers.cleanser import SixteenPersonalityDataCleaner, chatGPTPersonalityDataCleaner\n",
    "cleanser = SixteenPersonalityDataCleaner()\n",
    "cleanser.reset_cleansed_storage()\n",
    "cleanser.process_personality_data()\n",
    "\n",
    "cleanser = chatGPTPersonalityDataCleaner()\n",
    "cleanser.reset_cleansed_storage()\n",
    "cleanser.process_personality_data()"
   ]
  },
  {
   "cell_type": "code",
   "execution_count": 1,
   "metadata": {},
   "outputs": [
    {
     "name": "stderr",
     "output_type": "stream",
     "text": [
      "2024-12-18 21:19:46.411454: I tensorflow/core/platform/cpu_feature_guard.cc:182] This TensorFlow binary is optimized to use available CPU instructions in performance-critical operations.\n",
      "To enable the following instructions: AVX2 FMA, in other operations, rebuild TensorFlow with the appropriate compiler flags.\n"
     ]
    }
   ],
   "source": [
    "from embed.embeder import VectorStoreManager\n",
    "manager = VectorStoreManager()\n",
    "# sometimes resetting here will require a restart\n",
    "# manager.reset_vectorstore()\n",
    "manager.sixteen_personality_embed()\n",
    "manager.chatGPT_personality_embed()"
   ]
  },
  {
   "cell_type": "code",
   "execution_count": 2,
   "metadata": {},
   "outputs": [
    {
     "name": "stdout",
     "output_type": "stream",
     "text": [
      "Result 1:\n",
      "ideas at a deeper level. by understanding and adapting to entp communication traits, both entps and those interacting with them can cultivate more effective and meaningful conversations.\n",
      "\n",
      "Result 2:\n",
      "any situation that allows for conversation and a little wordplay is an enjoyable outing. entps are actually remarkably good at communicating with friends and acquaintances of other personality types. their natural tendency to argue as effectively as possible means that these personalities are accustomed to communicating in other peoples language and frame of reference, and this translates well into normal conversation. where entps do have difficulty relating to others is in emotional expression\n",
      "\n",
      "Result 3:\n",
      "summary of the communication traits of entp debater personality type the entp personality type, often referred to as the debater, is known for its vibrant communication style marked by a mix of wit, creativity, and intellectual curiosity. below is a comprehensive breakdown of their communication traits. 1. overall communication style entps have a dynamic and engaging communication style. their tone is typically lively and enthusiastic, which helps them to grab attention and maintain engagement.\n",
      "\n",
      "Result 4:\n",
      "distant idea or opportunity. however, entps are exceptionally adaptive individuals. their ability and readiness to change their perspectives may save them from being overly confrontational or insensitive. they just have to realize the value of emotional understanding, sensitivity, and compromise in maintaining a strong relationship. and the good news is that these personalities can actively work on developing these traits while keeping their debateloving, unconventional spirit alive.\n",
      "\n",
      "Result 5:\n",
      "instead to dive into relevant topics with depth and precision. in conversations, they favor a straightforward approach, often using clear, unambiguous language. they tend to avoid beating around the bush, which can lead to a perception of bluntness or impatience. this directness is a hallmark of their communication style, as they value time and clarity. 2. key strengths the communication strengths of entjs include clarity and conciseness they articulate their ideas clearly, making it easy for\n",
      "\n"
     ]
    }
   ],
   "source": [
    "# Example Query\n",
    "query = \"Tell me about entp's communication style\"\n",
    "results = manager.query_vectorstore(query)\n",
    "\n",
    "# Print Results\n",
    "for i, result in enumerate(results, start=1):\n",
    "    print(f\"Result {i}:\")\n",
    "    print(result.page_content)\n",
    "    print()"
   ]
  },
  {
   "cell_type": "code",
   "execution_count": 3,
   "metadata": {},
   "outputs": [
    {
     "name": "stdout",
     "output_type": "stream",
     "text": [
      "Query: which personality is well-versed in socialization?\n",
      "\n",
      "Context: and as they do so, they usually prefer to work at their own pace, on their own\n",
      "terms, and without unnecessary interruptions. this is not a type who is inclined\n",
      "to socialize beyond what is necessary as they try to accomplish their goals. in\n",
      "fact, istp personalities generally find regular socializing to be taxing. and\n",
      "when they do decide to get together with people, they will almost always choose\n",
      "smaller, more meaningful interactions over superficial networking. direct\n",
      "decisive for all thetype may find themselves quietly losing their enthusiasm and\n",
      "motivation, eventually becoming resentful toward those who just dont seem to\n",
      "appreciate them. showing up for others and themselves although theyre\n",
      "introverted, isfj personalities have a deeply social nature. thanks to their\n",
      "ability to remember the details of other peoples lives, they have a special\n",
      "talent for making their friends and acquaintances feel seen, known, and\n",
      "cherished. few personality types can match their ability to choosefriends with\n",
      "people who are more spontaneous and imaginative. these are very much\n",
      "relationships built not on mutual understanding but out of respect for their\n",
      "mutual differences. istj personalities will happily marvel at other peoples\n",
      "breadth of thought, being very much in tune with their own intelligence, while\n",
      "they themselves are regularly admired for their realism and dependability\n",
      "something that others are often hardpressed to find. knowledge, as always, is\n",
      "the great equalizer.the best version of themselves for both their own good and\n",
      "the good of their partner. it can be surprising to these personalities and\n",
      "perhaps bad news for their relationship if their partner doesnt share this\n",
      "desire to grow. that being said, people with this personality type would do well\n",
      "to remember that their approach is just one angle of a multifaceted spectrum of\n",
      "alternatives. while they may view criticism as the most efficient route and\n",
      "theyre often right, they should bear in mind thatpersonality type are able to\n",
      "offer their children stability, security, and most importantly an abundance of\n",
      "love and support.\n",
      "\n",
      "\n",
      "LLM Response with Context:\n",
      " The ISTJ (Introverted, Sensing, Thinking, Judging) personality type is well-versed in socialization. According to the context, \"though they themselves are regularly admired for their realism and dependability... [ISTJs] will happily marvel at other peoples breadth of thought, being very much in tune with their own intelligence...\"\n",
      "\n",
      "\n",
      "LLM Response without Context:\n",
      " Based on my knowledge, I would say that an extroverted personality type is typically well-versed in socialization.\n",
      "\n",
      "Extroverts tend to be outgoing, sociable, and enjoy interacting with others. They often have a strong desire to connect with people, engage in conversations, and build relationships. This innate tendency to be social makes them more skilled at navigating various social situations, reading people's cues, and adapting to different social norms.\n",
      "\n",
      "Some common characteristics of extroverted personalities that facilitate socialization include:\n",
      "\n",
      "1. High energy levels: Extroverts tend to be energetic and enthusiastic, which helps them stay engaged in conversations and maintain a positive attitude in social settings.\n",
      "2. Good listeners: Extroverts are often skilled at actively listening to others, asking questions, and showing genuine interest in people's lives.\n",
      "3. Adaptability: Extroverts can adjust their behavior to fit different social contexts, making them more effective communicators and connectors with others.\n",
      "\n",
      "Overall, the extroverted personality type is generally well-equipped to navigate complex social situations, build strong relationships, and communicate effectively with others.\n"
     ]
    }
   ],
   "source": [
    "# from llm.llm import RAGQuery\n",
    "from embed.embeder import VectorStoreManager\n",
    "import requests\n",
    "import textwrap\n",
    "\n",
    "manager = VectorStoreManager()\n",
    "# Initialize the LLaMA model\n",
    "#llama_query = RAGQuery(model_name=\"meta-llama/Llama-2-7b-chat-hf\", device=0)\n",
    "\n",
    "# Define the API endpoint\n",
    "API_URL = \"http://localhost:11434/api/chat\"\n",
    "\n",
    "# Example Query\n",
    "query = \"which personality is well-versed in socialization?\"\n",
    "results = manager.query_vectorstore(query)\n",
    "\n",
    "context = \"\"\n",
    "# Print Results\n",
    "for i, result in enumerate(results, start=1):\n",
    "    # Example context and question\n",
    "    response = (result.page_content)\n",
    "    context += response\n",
    "    \n",
    "    # Get the response\n",
    "    #response = llama_query.query(context, query, max_length=200)\n",
    "\n",
    "print(f'Query: {query}')\n",
    "print()\n",
    "print(f'Context: {textwrap.fill(context, width=80)}')\n",
    "\n",
    "# Define the prompt with context and question\n",
    "payload = {\n",
    "    \"model\": \"llama3.2\",\n",
    "    \"messages\": [\n",
    "        {\n",
    "            \"role\": \"system\",\n",
    "            \"content\": \"You are a knowledgeable assistant capable of providing intellectual answers based on the provided context.\"\n",
    "        },\n",
    "        {\n",
    "            \"role\": \"user\",\n",
    "            \"content\": f\"Use the following context to answer the quesiton: \\n\\nContext: {context}\\n\\nQuestion: {query}\\n\\nAnswer: \"\n",
    "        }\n",
    "    ],\n",
    "    \"stream\": False\n",
    "}\n",
    "\n",
    "payloadWithoutContext = {\n",
    "    \"model\": \"llama3.2\",\n",
    "    \"messages\": [\n",
    "        {\n",
    "            \"role\": \"system\",\n",
    "            \"content\": \"You are a knowledgeable assistant capable of providing intellectual answers.\"\n",
    "        },\n",
    "        {\n",
    "            \"role\": \"user\",\n",
    "            \"content\":f\"Question: {query}\\n\\nAnswer: \"\n",
    "        }\n",
    "    ],\n",
    "    \"stream\": False\n",
    "}\n",
    "\n",
    "# Send the request\n",
    "responseWithoutContext = requests.post(API_URL, json=payloadWithoutContext)\n",
    "response = requests.post(API_URL, json=payload)\n",
    "\n",
    "# Print the response\n",
    "if response.status_code == 200:\n",
    "    print()\n",
    "    print()\n",
    "    print(\"LLM Response with Context:\\n\", response.json()[\"message\"]['content'])\n",
    "    print()\n",
    "    print()\n",
    "    print(\"LLM Response without Context:\\n\", responseWithoutContext.json()[\"message\"]['content'])\n",
    "else:\n",
    "    print(\"Error:\", response.text)"
   ]
  },
  {
   "cell_type": "code",
   "execution_count": null,
   "metadata": {},
   "outputs": [],
   "source": [
    "# i should add personality name/tag to vectorized chunks"
   ]
  },
  {
   "cell_type": "code",
   "execution_count": null,
   "metadata": {},
   "outputs": [],
   "source": []
  },
  {
   "cell_type": "code",
   "execution_count": null,
   "metadata": {},
   "outputs": [],
   "source": [
    "# from llm.qaGenerator import QAGenerator\n",
    "# generator = QAGenerator()\n",
    "# generator.reset_storage()\n",
    "# generator.process_all_sources()"
   ]
  }
 ],
 "metadata": {
  "kernelspec": {
   "display_name": "zero",
   "language": "python",
   "name": "python3"
  },
  "language_info": {
   "codemirror_mode": {
    "name": "ipython",
    "version": 3
   },
   "file_extension": ".py",
   "mimetype": "text/x-python",
   "name": "python",
   "nbconvert_exporter": "python",
   "pygments_lexer": "ipython3",
   "version": "3.9.6"
  }
 },
 "nbformat": 4,
 "nbformat_minor": 2
}
